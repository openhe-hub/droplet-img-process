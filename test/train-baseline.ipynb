{
 "cells": [
  {
   "cell_type": "code",
   "execution_count": 2,
   "id": "initial_id",
   "metadata": {
    "collapsed": true,
    "ExecuteTime": {
     "end_time": "2024-11-28T11:57:22.508935700Z",
     "start_time": "2024-11-28T11:57:20.687437100Z"
    }
   },
   "outputs": [],
   "source": [
    "import pandas as pd\n",
    "import lightgbm as lgb\n",
    "from sklearn.model_selection import train_test_split\n",
    "\n",
    "df = pd.read_csv('../assets/dataset.csv')\n",
    "\n",
    "features = [\n",
    "    'surface_type', \n",
    "    'liquid_type', \n",
    "    'diameter',\n",
    "    'height',\n",
    "    'fall_point_type',\n",
    "    'time',\n",
    "]\n",
    "labels = ['area', 'circumstance', 'circularity', 'finger_num']\n",
    "\n",
    "for label in labels:\n",
    "    X = df[features]\n",
    "    y = df[label]\n",
    "    \n",
    "    X_train, X_test, y_train, y_test = train_test_split(X, y, test_size=0.1, random_state=42)\n",
    "    \n",
    "    train_data = lgb.Dataset(X_train, label=y_train)\n",
    "    test_data = lgb.Dataset(X_test, label=y_test, reference=train_data)\n",
    "    \n",
    "    params = {\n",
    "        'objective': 'regression',  \n",
    "        'metric': 'rmse',          \n",
    "        'boosting_type': 'gbdt',  \n",
    "        'learning_rate': 0.1,\n",
    "        'num_leaves': 31,\n",
    "        'max_depth': -1,\n",
    "        'verbose': -1\n",
    "    }\n",
    "    \n",
    "    model = lgb.train(\n",
    "        params,\n",
    "        train_data,\n",
    "        valid_sets=[train_data, test_data],\n",
    "        num_boost_round=100,         \n",
    "    )\n",
    "    \n",
    "    model.save_model(f'../model/baseline/model_{label}.txt')"
   ]
  }
 ],
 "metadata": {
  "kernelspec": {
   "display_name": "Python 3",
   "language": "python",
   "name": "python3"
  },
  "language_info": {
   "codemirror_mode": {
    "name": "ipython",
    "version": 2
   },
   "file_extension": ".py",
   "mimetype": "text/x-python",
   "name": "python",
   "nbconvert_exporter": "python",
   "pygments_lexer": "ipython2",
   "version": "3.9.9"
  }
 },
 "nbformat": 4,
 "nbformat_minor": 5
}
