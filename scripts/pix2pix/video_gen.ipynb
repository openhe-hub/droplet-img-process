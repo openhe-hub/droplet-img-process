{
 "cells": [
  {
   "cell_type": "code",
   "execution_count": 3,
   "metadata": {},
   "outputs": [],
   "source": [
    "import os\n",
    "\n",
    "folder_path = r\"E:\\program\\python\\droplet_v6\\test_latest\\images\"\n",
    "files = os.listdir(folder_path)\n",
    "real_pictures = [file for file in files if file.endswith(\"real_B.png\")]\n",
    "fake_pictures = [file for file in files if file.endswith(\"fake_B.png\")]"
   ]
  },
  {
   "cell_type": "code",
   "execution_count": 4,
   "metadata": {},
   "outputs": [
    {
     "name": "stdout",
     "output_type": "stream",
     "text": [
      "Video saved to ./output/video/real.mp4\n",
      "Video saved to ./output/video/fake.mp4\n"
     ]
    }
   ],
   "source": [
    "import cv2\n",
    "\n",
    "frame_rate = 3\n",
    "frame_size = (256, 256) \n",
    "\n",
    "def create_video(image_list, output_path):\n",
    "    fourcc = cv2.VideoWriter_fourcc(*'mp4v') \n",
    "    video_writer = cv2.VideoWriter(output_path, fourcc, frame_rate, frame_size)\n",
    "\n",
    "    for image_name in image_list:\n",
    "        image_path = os.path.join(folder_path, image_name)\n",
    "        frame = cv2.imread(image_path)\n",
    "\n",
    "        if frame.shape[:2] != frame_size[::-1]:\n",
    "            frame = cv2.resize(frame, frame_size)\n",
    "\n",
    "        video_writer.write(frame)\n",
    "\n",
    "    video_writer.release()  \n",
    "    print(f\"Video saved to {output_path}\")\n",
    "\n",
    "# 创建视频\n",
    "create_video(real_pictures, './output/video/real.mp4')\n",
    "create_video(fake_pictures, './output/video/fake.mp4')"
   ]
  },
  {
   "cell_type": "code",
   "execution_count": 4,
   "metadata": {},
   "outputs": [],
   "source": [
    "import os\n",
    "import shutil\n",
    "\n",
    "# 文件夹路径\n",
    "source_folder = r\"../../assets/test_latest/images\"\n",
    "output_folder_A = r\"../../assets/images_real\"\n",
    "output_folder_B = r\"../../assets/images_pred\"\n",
    "\n",
    "# 创建目标文件夹\n",
    "os.makedirs(output_folder_A, exist_ok=True)\n",
    "os.makedirs(output_folder_B, exist_ok=True)\n",
    "\n",
    "# 遍历文件夹中的文件\n",
    "for file_name in os.listdir(source_folder):\n",
    "    if file_name.endswith(\"real_B.png\"):\n",
    "        shutil.move(os.path.join(source_folder, file_name), os.path.join(output_folder_A, file_name))\n",
    "    elif file_name.endswith(\"fake_B.png\"):\n",
    "        shutil.move(os.path.join(source_folder, file_name), os.path.join(output_folder_B, file_name))"
   ]
  },
  {
   "cell_type": "code",
   "execution_count": 6,
   "metadata": {},
   "outputs": [
    {
     "name": "stdout",
     "output_type": "stream",
     "text": [
      "图片已成功缩放并保存到 E:\\program\\python\\droplet-img-process\\assets\\images_real\\a_background.png\n"
     ]
    }
   ],
   "source": [
    "import cv2\n",
    "\n",
    "# 输入图片路径\n",
    "input_image_path = r\"E:\\program\\python\\droplet-img-process\\assets\\images_real\\a_background.png\"\n",
    "output_image_path = r\"E:\\program\\python\\droplet-img-process\\assets\\images_real\\a_background.png\"\n",
    "\n",
    "# 读取图片\n",
    "image = cv2.imread(input_image_path)\n",
    "\n",
    "# 检查图片是否成功加载\n",
    "if image is None:\n",
    "    print(\"无法加载图片，请检查路径！\")\n",
    "else:\n",
    "    # 缩放图片到 256x256\n",
    "    resized_image = cv2.resize(image, (256, 256))\n",
    "\n",
    "    # 保存缩放后的图片\n",
    "    cv2.imwrite(output_image_path, resized_image)\n",
    "    print(f\"图片已成功缩放并保存到 {output_image_path}\")"
   ]
  }
 ],
 "metadata": {
  "kernelspec": {
   "display_name": "droplet",
   "language": "python",
   "name": "python3"
  },
  "language_info": {
   "codemirror_mode": {
    "name": "ipython",
    "version": 3
   },
   "file_extension": ".py",
   "mimetype": "text/x-python",
   "name": "python",
   "nbconvert_exporter": "python",
   "pygments_lexer": "ipython3",
   "version": "3.8.20"
  }
 },
 "nbformat": 4,
 "nbformat_minor": 2
}
