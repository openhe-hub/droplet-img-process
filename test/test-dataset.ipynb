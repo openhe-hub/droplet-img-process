{
 "cells": [
  {
   "cell_type": "code",
   "execution_count": 2,
   "id": "initial_id",
   "metadata": {
    "collapsed": true,
    "ExecuteTime": {
     "end_time": "2024-11-28T11:57:14.490182200Z",
     "start_time": "2024-11-28T11:57:14.423397800Z"
    }
   },
   "outputs": [],
   "source": [
    "import pandas as pd\n",
    "\n",
    "dataset = pd.read_csv('../assets/dataset.csv')\n",
    "dataset = dataset[abs(dataset['velocity']) <= 100]\n",
    "dataset['surface_type'] = pd.factorize(dataset['surface_type'])[0]\n",
    "dataset['liquid_type'] = pd.factorize(dataset['liquid_type'])[0]\n",
    "dataset['fall_point_type'] = pd.factorize(dataset['fall_point_type'])[0]\n",
    "dataset.to_csv('../assets/dataset.csv')"
   ]
  },
  {
   "cell_type": "code",
   "execution_count": 3,
   "outputs": [],
   "source": [
    "desc_df = dataset.describe()\n",
    "desc_df.to_excel('../assets/desc.xlsx')"
   ],
   "metadata": {
    "collapsed": false,
    "ExecuteTime": {
     "end_time": "2024-11-28T11:57:15.351038200Z",
     "start_time": "2024-11-28T11:57:14.494194Z"
    }
   },
   "id": "72afeeced4cd634f"
  }
 ],
 "metadata": {
  "kernelspec": {
   "display_name": "Python 3",
   "language": "python",
   "name": "python3"
  },
  "language_info": {
   "codemirror_mode": {
    "name": "ipython",
    "version": 2
   },
   "file_extension": ".py",
   "mimetype": "text/x-python",
   "name": "python",
   "nbconvert_exporter": "python",
   "pygments_lexer": "ipython2",
   "version": "2.7.6"
  }
 },
 "nbformat": 4,
 "nbformat_minor": 5
}
